{
 "cells": [
  {
   "cell_type": "code",
   "execution_count": 1,
   "metadata": {
    "colab": {
     "base_uri": "https://localhost:8080/"
    },
    "executionInfo": {
     "elapsed": 37535,
     "status": "ok",
     "timestamp": 1734083184876,
     "user": {
      "displayName": "Ubong Udoette",
      "userId": "17916095541120893166"
     },
     "user_tz": 0
    },
    "id": "laFKqsa-QT9D",
    "outputId": "f4f02e16-0059-4d79-ff7b-63e07f8d7ddc"
   },
   "outputs": [
    {
     "name": "stderr",
     "output_type": "stream",
     "text": [
      "[nltk_data] Downloading package punkt to /root/nltk_data...\n",
      "[nltk_data]   Unzipping tokenizers/punkt.zip.\n",
      "[nltk_data] Downloading package punkt_tab to /root/nltk_data...\n",
      "[nltk_data]   Unzipping tokenizers/punkt_tab.zip.\n",
      "[nltk_data] Downloading package stopwords to /root/nltk_data...\n",
      "[nltk_data]   Unzipping corpora/stopwords.zip.\n",
      "[nltk_data] Downloading package wordnet to /root/nltk_data...\n"
     ]
    }
   ],
   "source": [
    "#\"Student ID\": '21085920'\n",
    "import nltk #import nltk library for preprocessing\n",
    "nltk.download('punkt')\n",
    "nltk.download('punkt_tab')\n",
    "from nltk.tokenize import word_tokenize\n",
    "from nltk.stem import PorterStemmer # library for\n",
    "import spacy # import spacy library\n",
    "from nltk.corpus import stopwords\n",
    "from nltk.tokenize import word_tokenize\n",
    "nltk.download('stopwords')\n",
    "from collections import defaultdict\n",
    "import copy\n",
    "import re # import regular expression\n",
    "from nltk.stem import WordNetLemmatizer\n",
    "nltk.download('wordnet')\n",
    "nlp = spacy.load('en_core_web_sm')\n",
    "import csv\n",
    "import math\n",
    "\n",
    "\n",
    "# Filepath to your TSV file\n",
    "file_path = 'Restaurant_Reviews.tsv'\n",
    "\n",
    "# load data from file into an array list\n",
    "data = []\n",
    "with open(file_path, 'r') as file:\n",
    "    tsv_reader = csv.reader(file, delimiter='\\t')  # Specify tab delimiter\n",
    "    for row in tsv_reader:\n",
    "        data.append((row[0], row[1]))\n",
    "\n",
    "data.remove(('Review', 'Liked'))# remove the data heading from the list\n",
    "\n",
    "#Splitting the data set into train and test\n",
    "from sklearn.model_selection import train_test_split\n",
    "features = []\n",
    "labels = []\n",
    "for review in data:\n",
    "    features.append(review[0])\n",
    "    labels.append(review[1])\n",
    "x_train, x_test, y_train, y_test = train_test_split(features, labels, test_size=0.2, random_state=42) #split dataset into train and test data\n",
    "train_data = [(x, y) for x, y in zip(x_train, y_train)]\n",
    "test_data = [(x, y) for x, y in zip(x_test, y_test)]\n",
    "# print(\"Training Features:\", x_train)\n",
    "# print(\"Testing Features:\", x_test)\n",
    "# print(\"Training Labels:\", y_train)\n",
    "# print(\"Testing Labels:\", y_test)"
   ]
  },
  {
   "cell_type": "code",
   "execution_count": 1,
   "metadata": {
    "executionInfo": {
     "elapsed": 19,
     "status": "ok",
     "timestamp": 1734083184876,
     "user": {
      "displayName": "Ubong Udoette",
      "userId": "17916095541120893166"
     },
     "user_tz": 0
    },
    "id": "arfUQEIFYIW-"
   },
   "outputs": [],
   "source": []
  },
  {
   "cell_type": "markdown",
   "metadata": {
    "id": "l7ay_0FPYLq1"
   },
   "source": [
    "Preprocessing and Feature Extraction"
   ]
  },
  {
   "cell_type": "code",
   "execution_count": 2,
   "metadata": {
    "executionInfo": {
     "elapsed": 18,
     "status": "ok",
     "timestamp": 1734083184876,
     "user": {
      "displayName": "Ubong Udoette",
      "userId": "17916095541120893166"
     },
     "user_tz": 0
    },
    "id": "kkuCIyXfkwiB"
   },
   "outputs": [],
   "source": [
    "#preprocess a specified text\n",
    "#return the processed text as string\n",
    "def preprocess(text):\n",
    "  import string\n",
    "  porter = PorterStemmer()\n",
    "  #remove stop words\n",
    "  stop_words = set(stopwords.words('english'))\n",
    "  #removes all form of punctautationi\n",
    "  cleaned_text = re.sub(r'[^\\w\\s]', '', text)  # This removes all punctuations and non-numeric characters\n",
    "#   cleaned_text = cleaned_text.replace('...', '') # Specifically remove ellipsis\n",
    "  words = nltk.word_tokenize(cleaned_text)#tokenize text\n",
    "  words = [word.lower() for word in words if word.lower() not in stop_words] #lower case each word\n",
    "  words = [word for word in words if word not in string.punctuation]#removing punctuations\n",
    "  # Initialize the lemmatizer\n",
    "  # lemmatizer = WordNetLemmatizer()\n",
    "  # words = [lemmatizer.lemmatize(word) for word in words]\n",
    "  text = ' '.join(words) #joins all words from the word list\n",
    "\n",
    "  words = nlp(text)  #process the text with spacy\n",
    "  words  = [token.lemma_ for token in words] #lemmatize each word\n",
    "  text = ' '.join(words) #joins all elements words list\n",
    "\n",
    "  return  text"
   ]
  },
  {
   "cell_type": "code",
   "execution_count": 3,
   "metadata": {
    "executionInfo": {
     "elapsed": 18,
     "status": "ok",
     "timestamp": 1734083184877,
     "user": {
      "displayName": "Ubong Udoette",
      "userId": "17916095541120893166"
     },
     "user_tz": 0
    },
    "id": "UqrLbP0yhpd_"
   },
   "outputs": [],
   "source": [
    "#Calcuates the prior probability of the class\n",
    "#calculates the term frequency of each word\n",
    "#returns the the prior probability and term frequency\n",
    "def review_prob(data):\n",
    "    prior = defaultdict(int)\n",
    "    frequency = defaultdict(lambda: defaultdict(int))\n",
    "    for review, label in data:\n",
    "        prior[label] += 1\n",
    "        words = preprocess(review).split()\n",
    "        for word in words:\n",
    "            frequency[label][word] += 1\n",
    "    total_reviews = len(data)\n",
    "    for label in prior:\n",
    "        prior[label] /= total_reviews\n",
    "    return prior, frequency\n"
   ]
  },
  {
   "cell_type": "code",
   "execution_count": 4,
   "metadata": {
    "executionInfo": {
     "elapsed": 17,
     "status": "ok",
     "timestamp": 1734083184877,
     "user": {
      "displayName": "Ubong Udoette",
      "userId": "17916095541120893166"
     },
     "user_tz": 0
    },
    "id": "9KZA9eAlHFeY"
   },
   "outputs": [],
   "source": [
    "#reivew - new review\n",
    "#prior_prob - prior probability\n",
    "#frequency - term frequency of each word in the doc\n",
    "#return the class of a review\n",
    "def classify_review(review, prior_prob, frequency):\n",
    "    words = preprocess(review).split()\n",
    "    posteriors = {}\n",
    "    prob_positive = []\n",
    "    prob_negative = []\n",
    "    alpha = 1\n",
    "\n",
    "    for label in prior_prob:\n",
    "        class_size = sum(frequency[label].values())\n",
    "        unique_words = len(frequency[label])\n",
    "        posterior = prior_prob[label]\n",
    "        log_posterior = math.log10(posterior)\n",
    "        for word in words:\n",
    "            #appying laplacing smoothing\n",
    "            prob = (frequency[label].get(word, 0) + alpha) / (class_size + (unique_words  * alpha))\n",
    "            if label == '1':\n",
    "                prob_positive.append(prob)\n",
    "            elif label == '0':\n",
    "                prob_negative.append(prob)\n",
    "            posterior *= prob\n",
    "        posteriors[label] = posterior\n",
    "    #calcuate log_likelihood\n",
    "    for pos, neg in zip(prob_positive, prob_negative):\n",
    "        log_posterior += math.log10(pos/neg)\n",
    "    return max(posteriors, key=posteriors.get), log_posterior\n",
    "\n"
   ]
  },
  {
   "cell_type": "code",
   "execution_count": 5,
   "metadata": {
    "colab": {
     "base_uri": "https://localhost:8080/"
    },
    "executionInfo": {
     "elapsed": 11115,
     "status": "ok",
     "timestamp": 1734083195975,
     "user": {
      "displayName": "Ubong Udoette",
      "userId": "17916095541120893166"
     },
     "user_tz": 0
    },
    "id": "9VN9KQufXfbY",
    "outputId": "7c7c0cfa-3045-4f03-9f2a-0d04f6b4a85e"
   },
   "outputs": [
    {
     "name": "stdout",
     "output_type": "stream",
     "text": [
      "1. If you haven't gone here GO NOW! - 0\n",
      "2. Try them in the airport to experience some tasty food and speedy, friendly service. - 1\n",
      "3. The restaurant is very clean and has a family restaurant feel to it. - 1\n",
      "4. I personally love the hummus, pita, baklava, falafels and Baba Ganoush (it's amazing what they do with eggplant!). - 1\n",
      "5. Come hungry, leave happy and stuffed! - 1\n",
      "6. It's a great place and I highly recommend it. - 1\n",
      "7. Best of luck to the rude and non-customer service focused new management. - 0\n",
      "8. Reasonably priced also! - 1\n",
      "9. Worst food/service I've had in a while. - 0\n",
      "10. I had a seriously solid breakfast here. - 1\n",
      "11. The service was terrible though. - 0\n",
      "12. 2 times - Very Bad Customer Service ! - 0\n",
      "13. Tried to go here for lunch and it was a madhouse. - 0\n",
      "14. The food wasn't good. - 0\n",
      "15. The meat was pretty dry, I had the sliced brisket and pulled pork. - 0\n",
      "16. Overall, a great experience. - 1\n",
      "17. I went to Bachi Burger on a friend's recommendation and was not disappointed. - 0\n",
      "18. I ordered Albondigas soup - which was just warm - and tasted like tomato soup with frozen meatballs. - 0\n",
      "19. The place was not clean and the food oh so stale! - 1\n",
      "20. All the bread is made in-house! - 1\n",
      "21. My boyfriend and I came here for the first time on a recent trip to Vegas and could not have been more pleased with the quality of food and service. - 1\n",
      "22. Everything on the menu is terrific and we were also thrilled that they made amazing accommodations for our vegetarian daughter. - 1\n",
      "23. They dropped more than the ball. - 0\n",
      "24. Be sure to order dessert, even if you need to pack it to-go - the tiramisu and cannoli are both to die for. - 0\n",
      "25. If that bug never showed up I would have given a 4 for sure, but on the other side of the wall where this bug was climbing was the kitchen. - 0\n",
      "26. If it were possible to give them zero stars, they'd have it. - 0\n",
      "27. The only good thing was our waiter, he was very helpful and kept the bloddy mary's coming. - 0\n",
      "28. Shrimp- When I unwrapped it (I live only 1/2 a mile from Brushfire) it was literally ice cold. - 0\n",
      "29. The Buffet at Bellagio was far from what I anticipated. - 1\n",
      "30. I was VERY disappointed!! - 0\n",
      "31. This place is like Chipotle, but BETTER. - 0\n",
      "32. My drink was never empty and he made some really great menu suggestions. - 1\n",
      "33. Very disappointing!!! - 0\n",
      "34. Waitress was sweet and funny. - 1\n",
      "35. I left with a stomach ache and felt sick the rest of the day. - 0\n",
      "36. Very friendly staff. - 1\n",
      "37. The decor is nice, and the piano music soundtrack is pleasant. - 1\n",
      "38. After I pulled up my car I waited for another 15 minutes before being acknowledged. - 0\n",
      "39. Their regular toasted bread was equally satisfying with the occasional pats of butter... Mmmm...! - 1\n",
      "40. The ripped banana was not only ripped, but petrified and tasteless. - 0\n",
      "41. I go to far too many places and I've never seen any restaurant that serves a 1 egg breakfast, especially for $4.00. - 1\n",
      "42. Will be back again! - 0\n",
      "43. The food was very good. - 1\n",
      "44. Your servers suck, wait, correction, our server Heimer sucked. - 0\n",
      "45. The food was excellent and service was very good. - 1\n",
      "46. The goat taco didn't skimp on the meat and wow what FLAVOR! - 0\n",
      "47. However, there was so much garlic in the fondue, it was barely edible. - 0\n",
      "48. We got sitting fairly fast, but, ended up waiting 40 minutes just to place our order, another 30 minutes before the food arrived. - 0\n",
      "49. If you're not familiar, check it out. - 1\n",
      "50. I have never had such bland food which surprised me considering the article we read focused so much on their spices and flavor. - 0\n",
      "51. Eew... This location needs a complete overhaul. - 0\n",
      "52. Now the burgers aren't as good, the pizza which used to be amazing is doughy and flavorless. - 0\n",
      "53. I have been in more than a few bars in Vegas, and do not ever recall being charged for tap water. - 1\n",
      "54. The staff are also very friendly and efficient. - 1\n",
      "55. I could care less... The interior is just beautiful. - 1\n",
      "56. Also there are combos like a burger, fries, and beer for 23 which is a decent deal. - 0\n",
      "57. Despite how hard I rate businesses, its actually rare for me to give a 1 star. - 0\n",
      "58. Service was very prompt. - 0\n",
      "59. The service was a bit lacking. - 0\n",
      "60. But I definitely would not eat here again. - 0\n",
      "61. Before I go in to why I gave a 1 star rating please know that this was my third time eating at Bachi burger before writing a review. - 0\n",
      "62. The portion was huge! - 1\n",
      "63. The yellowtail carpaccio was melt in your mouth fresh. - 1\n",
      "64. The sides are delish - mixed mushrooms, yukon gold puree, white corn - beateous. - 1\n",
      "65. Couldn't ask for a more satisfying meal. - 0\n",
      "66. will definitely be back! - 0\n",
      "67. The owners are super friendly and the staff is courteous. - 1\n",
      "68. This place is awesome if you want something light and healthy during the summer. - 1\n",
      "69. The deal included 5 tastings and 2 drinks, and Jeff went above and beyond what we expected. - 0\n",
      "70. I won't try going back there even if it's empty. - 0\n",
      "71. The ambience is wonderful and there is music playing. - 1\n",
      "72. CONCLUSION: Very filling meals. - 0\n",
      "73. Great place fo take out or eat in. - 1\n",
      "74. It was way over fried. - 0\n",
      "75. The staff is great, the food is delish, and they have an incredible beer selection. - 1\n",
      "76. I hate to disagree with my fellow Yelpers, but my husband and I were so disappointed with this place. - 0\n",
      "77. It is PERFECT for a sit-down family meal or get together with a few friends. - 1\n",
      "78. Service sucks. - 0\n",
      "79. The kids play area is NASTY! - 1\n",
      "80. As much as I'd like to go back, I can't get passed the atrocious service and will never return. - 0\n",
      "81. Service was slow and not attentive. - 0\n",
      "82. Always a great time at Dos Gringos! - 1\n",
      "83. I've had better, not only from dedicated boba tea spots, but even from Jenni Pho. - 1\n",
      "84. Update.....went back for a second time and it was still just as amazing - 1\n",
      "85. And considering the two of us left there very full and happy for about $20, you just can't go wrong. - 0\n",
      "86. The desserts were a bit strange. - 1\n",
      "87. The whole experience was underwhelming, and I think we'll just go to Ninja Sushi next time. - 0\n",
      "88. I loved the grilled pizza, reminded me of legit Italian pizza. - 1\n",
      "89. We were sat right on time and our server from the get go was FANTASTIC! - 1\n",
      "90. They could serve it with just the vinaigrette and it may make for a better overall dish, but it was still very good. - 1\n",
      "91. The service was outshining & I definitely recommend the Halibut. - 0\n",
      "92. Food was so gooodd. - 0\n",
      "93. A greasy, unhealthy meal. - 0\n",
      "94. Which are small and not worth the price. - 1\n",
      "95. I don't have very many words to say about this place, but it does everything pretty well. - 0\n",
      "96. definitely will come back here again. - 0\n",
      "97. I'm so happy to be here!!!\" - 1\n",
      "98. Omelets are to die for! - 0\n",
      "99. We'd definitely go back here again. - 0\n",
      "100. Food quality has been horrible. - 0\n",
      "101. They have a really nice atmosphere. - 1\n",
      "102. He was terrible! - 0\n",
      "103. The sangria was about half of a glass wine full and was $12, ridiculous. - 0\n",
      "104. Fantastic service here. - 1\n",
      "105. We were promptly greeted and seated. - 1\n",
      "106. This place has a lot of promise but fails to deliver. - 1\n",
      "107. However, my recent experience at this particular location was not so good. - 1\n",
      "108. The only reason to eat here would be to fill up before a night of binge drinking just to get some carbs in your stomach. - 0\n",
      "109. I've never been treated so bad. - 0\n",
      "110. I got food poisoning here at the buffet. - 0\n",
      "111. This was my first time and I can't wait until the next. - 0\n",
      "112. The crêpe was delicate and thin and moist. - 1\n",
      "113. The problem I have is that they charge $11.99 for a sandwich that is no bigger than a Subway sub (which offers better and more amount of vegetables). - 1\n",
      "114. The food was terrible. - 0\n",
      "115. The poor batter to meat ratio made the chicken tenders very unsatisfying. - 0\n",
      "116. Service is quick and friendly. - 1\n",
      "117. Love this place, hits the spot when I want something healthy but not lacking in quantity or flavor. - 1\n",
      "118. I vomited in the bathroom mid lunch. - 0\n",
      "119. Terrible management. - 0\n",
      "120. I didn't know pulled pork could be soooo delicious. - 1\n",
      "121. Pricing is a bit of a concern at Mellow Mushroom. - 1\n",
      "122. No complaints! - 0\n",
      "123. If you are reading this please don't go there. - 0\n",
      "124. I hope this place sticks around. - 0\n",
      "125. I'd say that would be the hardest decision... Honestly, all of M's dishes taste how they are supposed to taste (amazing). - 0\n",
      "126. I *heart* this place. - 0\n",
      "127. Their steaks are 100% recommended! - 0\n",
      "128. Not to mention the combination of pears, almonds and bacon is a big winner! - 0\n",
      "129. For sushi on the Strip, this is the place to go. - 0\n",
      "130. I'm super pissd. - 1\n",
      "131. Not good for the money. - 0\n",
      "132. Bad day or not, I have a very low tolerance for rude customer service people, it is your job to be nice and polite, wash dishes otherwise!! - 0\n",
      "133. Plus, it's only 8 bucks. - 0\n",
      "134. I think food should have flavor and texture and both were lacking. - 0\n",
      "135. The bartender was also nice. - 1\n",
      "136. Loved it...friendly servers, great food, wonderful and imaginative menu. - 1\n",
      "137. I just don't know how this place managed to served the blandest food I have ever eaten when they are preparing Indian cuisine. - 0\n",
      "138. Waitress was good though! - 1\n",
      "139. That's right....the red velvet cake.....ohhh this stuff is so good. - 1\n",
      "140. The service was meh. - 0\n",
      "141. Frozen pucks of disgust, with some of the worst people behind the register. - 0\n",
      "142. Much better than the other AYCE sushi place I went to in Vegas. - 0\n",
      "143. The chicken was deliciously seasoned and had the perfect fry on the outside and moist chicken on the inside. - 1\n",
      "144. Service stinks here! - 0\n",
      "145. Worst Thai ever. - 0\n",
      "146. I'm not impressed with the concept or the food. - 0\n",
      "147. The server was very negligent of our needs and made us feel very unwelcome... I would not suggest this place! - 0\n",
      "148. like the other reviewer said \"you couldn't pay me to eat at this place again.\" - 0\n",
      "149. I love that they put their food in nice plastic containers as opposed to cramming it in little paper takeout boxes. - 1\n",
      "150. Also, the fries are without a doubt the worst fries I've ever had. - 0\n",
      "151. Maybe if they weren't cold they would have been somewhat edible. - 0\n",
      "152. this place is good. - 1\n",
      "153. Overpriced for what you are getting. - 0\n",
      "154. These are the nicest restaurant owners I've ever come across. - 0\n",
      "155. Probably not in a hurry to go back. - 0\n",
      "156. Im in AZ all the time and now have my new spot. - 1\n",
      "157. I did not expect this to be so good! - 0\n",
      "158. I was mortified. - 0\n",
      "159. At least think to refill my water before I struggle to wave you over for 10 minutes. - 0\n",
      "160. On three different occasions I asked for well done or medium well, and all three times I got the bloodiest piece of meat on my plate. - 0\n",
      "161. The croutons also taste homemade which is an extra plus. - 1\n",
      "162. The block was amazing. - 1\n",
      "163. We won't be going back anytime soon! - 0\n",
      "164. Very Very Disappointed ordered the $35 Big Bay Plater. - 0\n",
      "165. They have a plethora of salads and sandwiches, and everything I've tried gets my seal of approval. - 0\n",
      "166. The owner used to work at Nobu, so this place is really similar for half the price. - 0\n",
      "167. Never again will I be dining at this place! - 0\n",
      "168. Good food , good service . - 1\n",
      "169. Great food for the price, which is very high quality and house made. - 1\n",
      "170. Fantastic food! - 1\n",
      "171. This is an Outstanding little restaurant with some of the Best Food I have ever tasted. - 1\n",
      "172. I LOVED it! - 1\n",
      "173. REAL sushi lovers, let's be honest - Yama is not that good. - 1\n",
      "174. I would avoid this place if you are staying in the Mirage. - 0\n",
      "175. They had a toro tartare with a cavier that was extraordinary and I liked the thinly sliced wagyu with white truffle. - 1\n",
      "176. Definitely a turn off for me & i doubt I'll be back unless someone else is buying. - 0\n",
      "177. Now the pizza itself was good the peanut sauce was very tasty. - 1\n",
      "178. very tough and very short on flavor! - 0\n",
      "179. Why are these sad little vegetables so overcooked? - 0\n",
      "180. The plantains were the worst I've ever tasted. - 0\n",
      "181. Their daily specials are always a hit with my group. - 1\n",
      "182. dont go here. - 0\n",
      "183. In an interesting part of town, this place is amazing. - 1\n",
      "184. And it was way to expensive. - 0\n",
      "185. This place deserves no stars. - 1\n",
      "186. This is one of the best bars with food in Vegas. - 1\n",
      "187. On the good side, the staff was genuinely pleasant and enthusiastic - a real treat. - 1\n",
      "188. I find wasting food to be despicable, but this just wasn't food. - 0\n",
      "189. very slow at seating even with reservation. - 0\n",
      "190. Wonderful lil tapas and the ambience made me feel all warm and fuzzy inside. - 1\n",
      "191. This place is horrible and way overpriced. - 0\n",
      "192. I do love sushi, but I found Kabuki to be over-priced, over-hip and under-services. - 1\n",
      "193. Hands down my favorite Italian restaurant! - 1\n",
      "194. It is worth the drive. - 0\n",
      "195. Won't go back. - 0\n",
      "196. Service was fantastic. - 1\n",
      "197. We had fantastic service, and were pleased by the atmosphere. - 1\n",
      "198. Must have been an off night at this place. - 1\n",
      "199. Sorry, I will not be getting food from here anytime soon :( - 0\n",
      "200. Today is the second time I've been to their lunch buffet and it was pretty good. - 1\n"
     ]
    }
   ],
   "source": [
    "prior_prob, frequency = review_prob(train_data)\n",
    "predictions = []\n",
    "for count, review in enumerate(test_data, start=1):\n",
    "    result = classify_review(review[0], prior_prob, frequency)\n",
    "    prediction = '1'\n",
    "    if result[1] <= 0:\n",
    "        prediction = '0'\n",
    "    predictions.append(int(prediction))\n",
    "    print(f'{count}. {review[0]} - {prediction}')"
   ]
  },
  {
   "cell_type": "markdown",
   "metadata": {
    "id": "glh43dDbXgFG"
   },
   "source": [
    "Evaluation"
   ]
  },
  {
   "cell_type": "code",
   "execution_count": 6,
   "metadata": {
    "colab": {
     "base_uri": "https://localhost:8080/"
    },
    "executionInfo": {
     "elapsed": 24,
     "status": "ok",
     "timestamp": 1734083195975,
     "user": {
      "displayName": "Ubong Udoette",
      "userId": "17916095541120893166"
     },
     "user_tz": 0
    },
    "id": "ugjZ8eLxbIdH",
    "outputId": "3dd035e4-a7a3-4e0d-a801-3490e11aeea7"
   },
   "outputs": [
    {
     "name": "stdout",
     "output_type": "stream",
     "text": [
      "Accuracy: 0.74\n",
      "Precision: 0.8023255813953488\n",
      "Recall: 0.6634615384615384\n",
      "F1 Score: 0.7263157894736842\n",
      "Confusion Matrix:\n",
      " [[79 17]\n",
      " [35 69]]\n"
     ]
    }
   ],
   "source": [
    "test_truth = [int(review[1]) for review in test_data]\n",
    "from sklearn.metrics import accuracy_score, precision_score, recall_score, f1_score, roc_auc_score, confusion_matrix, classification_report\n",
    "\n",
    "# Basic metrics\n",
    "accuracy = accuracy_score(test_truth, predictions)\n",
    "precision = precision_score(test_truth, predictions)\n",
    "recall = recall_score(test_truth, predictions)\n",
    "f1 = f1_score(test_truth, predictions)\n",
    "\n",
    "# Confusion matrix\n",
    "conf_matrix = confusion_matrix(test_truth, predictions)\n",
    "# Summary report\n",
    "report = classification_report(test_truth, predictions)\n",
    "\n",
    "print(\"Accuracy:\", accuracy)\n",
    "print(\"Precision:\", precision)\n",
    "print(\"Recall:\", recall)\n",
    "print(\"F1 Score:\", f1)\n",
    "print(\"Confusion Matrix:\\n\", conf_matrix)\n",
    "# print(\"Classification Report:\\n\", report)\n"
   ]
  },
  {
   "cell_type": "code",
   "execution_count": 7,
   "metadata": {
    "colab": {
     "base_uri": "https://localhost:8080/",
     "height": 458
    },
    "executionInfo": {
     "elapsed": 672,
     "status": "ok",
     "timestamp": 1734083196631,
     "user": {
      "displayName": "Ubong Udoette",
      "userId": "17916095541120893166"
     },
     "user_tz": 0
    },
    "id": "SfUwUq7gJkYK",
    "outputId": "2fb0a631-ce21-48a1-d8be-9c31604a1315"
   },
   "outputs": [
    {
     "data": {
      "image/png": "[encoded data removed]",
      "text/plain": [
       "<Figure size 640x480 with 2 Axes>"
      ]
     },
     "metadata": {},
     "output_type": "display_data"
    }
   ],
   "source": [
    "import numpy as np\n",
    "import matplotlib.pyplot as plt\n",
    "from sklearn.model_selection import train_test_split\n",
    "from sklearn.metrics import confusion_matrix, ConfusionMatrixDisplay\n",
    "\n",
    "# Plot the confusion matrix\n",
    "disp = ConfusionMatrixDisplay(confusion_matrix=conf_matrix, display_labels='')\n",
    "disp.plot(cmap=plt.cm.Blues)\n",
    "plt.title('Naive Bayes Confusion Matrix')\n",
    "plt.show()"
   ]
  },
  {
   "cell_type": "code",
   "execution_count": 8,
   "metadata": {
    "executionInfo": {
     "elapsed": 18,
     "status": "ok",
     "timestamp": 1734083196632,
     "user": {
      "displayName": "Ubong Udoette",
      "userId": "17916095541120893166"
     },
     "user_tz": 0
    },
    "id": "yHVuUOwpTIVZ"
   },
   "outputs": [],
   "source": [
    "import pandas as pd\n",
    "# Filepath to your TSV file\n",
    "file_path = 'Restaurant_Reviews.tsv'\n",
    "# Reading TSV into a DataFrame and then converting to a list\n",
    "df = pd.read_csv(file_path, sep='\\t',\n",
    "  converters = {\n",
    "      'Column1': str.strip,\n",
    "      'Column2': str.strip,\n",
    "  })  # Specify tab separator\n",
    "data = df.values.tolist()  # Convert DataFrame to a list of lists"
   ]
  },
  {
   "cell_type": "code",
   "execution_count": 9,
   "metadata": {
    "colab": {
     "base_uri": "https://localhost:8080/",
     "height": 410
    },
    "executionInfo": {
     "elapsed": 18,
     "status": "ok",
     "timestamp": 1734083196633,
     "user": {
      "displayName": "Ubong Udoette",
      "userId": "17916095541120893166"
     },
     "user_tz": 0
    },
    "id": "Mgg3nGBxAjsk",
    "outputId": "2ca3446a-799e-4ae0-b431-98d0cb68a4b2"
   },
   "outputs": [
    {
     "data": {
      "image/png": "[encoded data removed]",
      "text/plain": [
       "<Figure size 700x400 with 1 Axes>"
      ]
     },
     "metadata": {},
     "output_type": "display_data"
    }
   ],
   "source": [
    "import matplotlib.pyplot as plt\n",
    "result = df['Liked'].value_counts()\n",
    "result = result.reset_index()\n",
    "\n",
    "plt.figure(figsize=(7, 4))\n",
    "plt.bar(result['Liked'], result['count'], color=['green', 'red'], label=['positive', 'negative'])\n",
    "plt.title('Distribution of Liked Reviews')\n",
    "plt.xlabel('Liked')\n",
    "plt.ylabel('Count')\n",
    "plt.legend()\n",
    "plt.xticks(result['Liked'])  # Set x-ticks to match the \"Liked\" values (0 and 1)\n",
    "plt.show()"
   ]
  },
  {
   "cell_type": "markdown",
   "metadata": {
    "id": "7upTymWUX6i4"
   },
   "source": [
    "Logistic Regression"
   ]
  },
  {
   "cell_type": "code",
   "execution_count": 10,
   "metadata": {
    "colab": {
     "base_uri": "https://localhost:8080/",
     "height": 80
    },
    "executionInfo": {
     "elapsed": 326,
     "status": "ok",
     "timestamp": 1734083196943,
     "user": {
      "displayName": "Ubong Udoette",
      "userId": "17916095541120893166"
     },
     "user_tz": 0
    },
    "id": "gGsAwz0TC-a2",
    "outputId": "1f5b7dc9-4ee7-4695-dc4d-6883053d5eac"
   },
   "outputs": [
    {
     "data": {
      "text/html": [
       "<style>#sk-container-id-1 {\n",
       "  /* Definition of color scheme common for light and dark mode */\n",
       "  --sklearn-color-text: black;\n",
       "  --sklearn-color-line: gray;\n",
       "  /* Definition of color scheme for unfitted estimators */\n",
       "  --sklearn-color-unfitted-level-0: #fff5e6;\n",
       "  --sklearn-color-unfitted-level-1: #f6e4d2;\n",
       "  --sklearn-color-unfitted-level-2: #ffe0b3;\n",
       "  --sklearn-color-unfitted-level-3: chocolate;\n",
       "  /* Definition of color scheme for fitted estimators */\n",
       "  --sklearn-color-fitted-level-0: #f0f8ff;\n",
       "  --sklearn-color-fitted-level-1: #d4ebff;\n",
       "  --sklearn-color-fitted-level-2: #b3dbfd;\n",
       "  --sklearn-color-fitted-level-3: cornflowerblue;\n",
       "\n",
       "  /* Specific color for light theme */\n",
       "  --sklearn-color-text-on-default-background: var(--sg-text-color, var(--theme-code-foreground, var(--jp-content-font-color1, black)));\n",
       "  --sklearn-color-background: var(--sg-background-color, var(--theme-background, var(--jp-layout-color0, white)));\n",
       "  --sklearn-color-border-box: var(--sg-text-color, var(--theme-code-foreground, var(--jp-content-font-color1, black)));\n",
       "  --sklearn-color-icon: #696969;\n",
       "\n",
       "  @media (prefers-color-scheme: dark) {\n",
       "    /* Redefinition of color scheme for dark theme */\n",
       "    --sklearn-color-text-on-default-background: var(--sg-text-color, var(--theme-code-foreground, var(--jp-content-font-color1, white)));\n",
       "    --sklearn-color-background: var(--sg-background-color, var(--theme-background, var(--jp-layout-color0, #111)));\n",
       "    --sklearn-color-border-box: var(--sg-text-color, var(--theme-code-foreground, var(--jp-content-font-color1, white)));\n",
       "    --sklearn-color-icon: #878787;\n",
       "  }\n",
       "}\n",
       "\n",
       "#sk-container-id-1 {\n",
       "  color: var(--sklearn-color-text);\n",
       "}\n",
       "\n",
       "#sk-container-id-1 pre {\n",
       "  padding: 0;\n",
       "}\n",
       "\n",
       "#sk-container-id-1 input.sk-hidden--visually {\n",
       "  border: 0;\n",
       "  clip: rect(1px 1px 1px 1px);\n",
       "  clip: rect(1px, 1px, 1px, 1px);\n",
       "  height: 1px;\n",
       "  margin: -1px;\n",
       "  overflow: hidden;\n",
       "  padding: 0;\n",
       "  position: absolute;\n",
       "  width: 1px;\n",
       "}\n",
       "\n",
       "#sk-container-id-1 div.sk-dashed-wrapped {\n",
       "  border: 1px dashed var(--sklearn-color-line);\n",
       "  margin: 0 0.4em 0.5em 0.4em;\n",
       "  box-sizing: border-box;\n",
       "  padding-bottom: 0.4em;\n",
       "  background-color: var(--sklearn-color-background);\n",
       "}\n",
       "\n",
       "#sk-container-id-1 div.sk-container {\n",
       "  /* jupyter's `normalize.less` sets `[hidden] { display: none; }`\n",
       "     but bootstrap.min.css set `[hidden] { display: none !important; }`\n",
       "     so we also need the `!important` here to be able to override the\n",
       "     default hidden behavior on the sphinx rendered scikit-learn.org.\n",
       "     See: https://github.com/scikit-learn/scikit-learn/issues/21755 */\n",
       "  display: inline-block !important;\n",
       "  position: relative;\n",
       "}\n",
       "\n",
       "#sk-container-id-1 div.sk-text-repr-fallback {\n",
       "  display: none;\n",
       "}\n",
       "\n",
       "div.sk-parallel-item,\n",
       "div.sk-serial,\n",
       "div.sk-item {\n",
       "  /* draw centered vertical line to link estimators */\n",
       "  background-image: linear-gradient(var(--sklearn-color-text-on-default-background), var(--sklearn-color-text-on-default-background));\n",
       "  background-size: 2px 100%;\n",
       "  background-repeat: no-repeat;\n",
       "  background-position: center center;\n",
       "}\n",
       "\n",
       "/* Parallel-specific style estimator block */\n",
       "\n",
       "#sk-container-id-1 div.sk-parallel-item::after {\n",
       "  content: \"\";\n",
       "  width: 100%;\n",
       "  border-bottom: 2px solid var(--sklearn-color-text-on-default-background);\n",
       "  flex-grow: 1;\n",
       "}\n",
       "\n",
       "#sk-container-id-1 div.sk-parallel {\n",
       "  display: flex;\n",
       "  align-items: stretch;\n",
       "  justify-content: center;\n",
       "  background-color: var(--sklearn-color-background);\n",
       "  position: relative;\n",
       "}\n",
       "\n",
       "#sk-container-id-1 div.sk-parallel-item {\n",
       "  display: flex;\n",
       "  flex-direction: column;\n",
       "}\n",
       "\n",
       "#sk-container-id-1 div.sk-parallel-item:first-child::after {\n",
       "  align-self: flex-end;\n",
       "  width: 50%;\n",
       "}\n",
       "\n",
       "#sk-container-id-1 div.sk-parallel-item:last-child::after {\n",
       "  align-self: flex-start;\n",
       "  width: 50%;\n",
       "}\n",
       "\n",
       "#sk-container-id-1 div.sk-parallel-item:only-child::after {\n",
       "  width: 0;\n",
       "}\n",
       "\n",
       "/* Serial-specific style estimator block */\n",
       "\n",
       "#sk-container-id-1 div.sk-serial {\n",
       "  display: flex;\n",
       "  flex-direction: column;\n",
       "  align-items: center;\n",
       "  background-color: var(--sklearn-color-background);\n",
       "  padding-right: 1em;\n",
       "  padding-left: 1em;\n",
       "}\n",
       "\n",
       "\n",
       "/* Toggleable style: style used for estimator/Pipeline/ColumnTransformer box that is\n",
       "clickable and can be expanded/collapsed.\n",
       "- Pipeline and ColumnTransformer use this feature and define the default style\n",
       "- Estimators will overwrite some part of the style using the `sk-estimator` class\n",
       "*/\n",
       "\n",
       "/* Pipeline and ColumnTransformer style (default) */\n",
       "\n",
       "#sk-container-id-1 div.sk-toggleable {\n",
       "  /* Default theme specific background. It is overwritten whether we have a\n",
       "  specific estimator or a Pipeline/ColumnTransformer */\n",
       "  background-color: var(--sklearn-color-background);\n",
       "}\n",
       "\n",
       "/* Toggleable label */\n",
       "#sk-container-id-1 label.sk-toggleable__label {\n",
       "  cursor: pointer;\n",
       "  display: block;\n",
       "  width: 100%;\n",
       "  margin-bottom: 0;\n",
       "  padding: 0.5em;\n",
       "  box-sizing: border-box;\n",
       "  text-align: center;\n",
       "}\n",
       "\n",
       "#sk-container-id-1 label.sk-toggleable__label-arrow:before {\n",
       "  /* Arrow on the left of the label */\n",
       "  content: \"▸\";\n",
       "  float: left;\n",
       "  margin-right: 0.25em;\n",
       "  color: var(--sklearn-color-icon);\n",
       "}\n",
       "\n",
       "#sk-container-id-1 label.sk-toggleable__label-arrow:hover:before {\n",
       "  color: var(--sklearn-color-text);\n",
       "}\n",
       "\n",
       "/* Toggleable content - dropdown */\n",
       "\n",
       "#sk-container-id-1 div.sk-toggleable__content {\n",
       "  max-height: 0;\n",
       "  max-width: 0;\n",
       "  overflow: hidden;\n",
       "  text-align: left;\n",
       "  /* unfitted */\n",
       "  background-color: var(--sklearn-color-unfitted-level-0);\n",
       "}\n",
       "\n",
       "#sk-container-id-1 div.sk-toggleable__content.fitted {\n",
       "  /* fitted */\n",
       "  background-color: var(--sklearn-color-fitted-level-0);\n",
       "}\n",
       "\n",
       "#sk-container-id-1 div.sk-toggleable__content pre {\n",
       "  margin: 0.2em;\n",
       "  border-radius: 0.25em;\n",
       "  color: var(--sklearn-color-text);\n",
       "  /* unfitted */\n",
       "  background-color: var(--sklearn-color-unfitted-level-0);\n",
       "}\n",
       "\n",
       "#sk-container-id-1 div.sk-toggleable__content.fitted pre {\n",
       "  /* unfitted */\n",
       "  background-color: var(--sklearn-color-fitted-level-0);\n",
       "}\n",
       "\n",
       "#sk-container-id-1 input.sk-toggleable__control:checked~div.sk-toggleable__content {\n",
       "  /* Expand drop-down */\n",
       "  max-height: 200px;\n",
       "  max-width: 100%;\n",
       "  overflow: auto;\n",
       "}\n",
       "\n",
       "#sk-container-id-1 input.sk-toggleable__control:checked~label.sk-toggleable__label-arrow:before {\n",
       "  content: \"▾\";\n",
       "}\n",
       "\n",
       "/* Pipeline/ColumnTransformer-specific style */\n",
       "\n",
       "#sk-container-id-1 div.sk-label input.sk-toggleable__control:checked~label.sk-toggleable__label {\n",
       "  color: var(--sklearn-color-text);\n",
       "  background-color: var(--sklearn-color-unfitted-level-2);\n",
       "}\n",
       "\n",
       "#sk-container-id-1 div.sk-label.fitted input.sk-toggleable__control:checked~label.sk-toggleable__label {\n",
       "  background-color: var(--sklearn-color-fitted-level-2);\n",
       "}\n",
       "\n",
       "/* Estimator-specific style */\n",
       "\n",
       "/* Colorize estimator box */\n",
       "#sk-container-id-1 div.sk-estimator input.sk-toggleable__control:checked~label.sk-toggleable__label {\n",
       "  /* unfitted */\n",
       "  background-color: var(--sklearn-color-unfitted-level-2);\n",
       "}\n",
       "\n",
       "#sk-container-id-1 div.sk-estimator.fitted input.sk-toggleable__control:checked~label.sk-toggleable__label {\n",
       "  /* fitted */\n",
       "  background-color: var(--sklearn-color-fitted-level-2);\n",
       "}\n",
       "\n",
       "#sk-container-id-1 div.sk-label label.sk-toggleable__label,\n",
       "#sk-container-id-1 div.sk-label label {\n",
       "  /* The background is the default theme color */\n",
       "  color: var(--sklearn-color-text-on-default-background);\n",
       "}\n",
       "\n",
       "/* On hover, darken the color of the background */\n",
       "#sk-container-id-1 div.sk-label:hover label.sk-toggleable__label {\n",
       "  color: var(--sklearn-color-text);\n",
       "  background-color: var(--sklearn-color-unfitted-level-2);\n",
       "}\n",
       "\n",
       "/* Label box, darken color on hover, fitted */\n",
       "#sk-container-id-1 div.sk-label.fitted:hover label.sk-toggleable__label.fitted {\n",
       "  color: var(--sklearn-color-text);\n",
       "  background-color: var(--sklearn-color-fitted-level-2);\n",
       "}\n",
       "\n",
       "/* Estimator label */\n",
       "\n",
       "#sk-container-id-1 div.sk-label label {\n",
       "  font-family: monospace;\n",
       "  font-weight: bold;\n",
       "  display: inline-block;\n",
       "  line-height: 1.2em;\n",
       "}\n",
       "\n",
       "#sk-container-id-1 div.sk-label-container {\n",
       "  text-align: center;\n",
       "}\n",
       "\n",
       "/* Estimator-specific */\n",
       "#sk-container-id-1 div.sk-estimator {\n",
       "  font-family: monospace;\n",
       "  border: 1px dotted var(--sklearn-color-border-box);\n",
       "  border-radius: 0.25em;\n",
       "  box-sizing: border-box;\n",
       "  margin-bottom: 0.5em;\n",
       "  /* unfitted */\n",
       "  background-color: var(--sklearn-color-unfitted-level-0);\n",
       "}\n",
       "\n",
       "#sk-container-id-1 div.sk-estimator.fitted {\n",
       "  /* fitted */\n",
       "  background-color: var(--sklearn-color-fitted-level-0);\n",
       "}\n",
       "\n",
       "/* on hover */\n",
       "#sk-container-id-1 div.sk-estimator:hover {\n",
       "  /* unfitted */\n",
       "  background-color: var(--sklearn-color-unfitted-level-2);\n",
       "}\n",
       "\n",
       "#sk-container-id-1 div.sk-estimator.fitted:hover {\n",
       "  /* fitted */\n",
       "  background-color: var(--sklearn-color-fitted-level-2);\n",
       "}\n",
       "\n",
       "/* Specification for estimator info (e.g. \"i\" and \"?\") */\n",
       "\n",
       "/* Common style for \"i\" and \"?\" */\n",
       "\n",
       ".sk-estimator-doc-link,\n",
       "a:link.sk-estimator-doc-link,\n",
       "a:visited.sk-estimator-doc-link {\n",
       "  float: right;\n",
       "  font-size: smaller;\n",
       "  line-height: 1em;\n",
       "  font-family: monospace;\n",
       "  background-color: var(--sklearn-color-background);\n",
       "  border-radius: 1em;\n",
       "  height: 1em;\n",
       "  width: 1em;\n",
       "  text-decoration: none !important;\n",
       "  margin-left: 1ex;\n",
       "  /* unfitted */\n",
       "  border: var(--sklearn-color-unfitted-level-1) 1pt solid;\n",
       "  color: var(--sklearn-color-unfitted-level-1);\n",
       "}\n",
       "\n",
       ".sk-estimator-doc-link.fitted,\n",
       "a:link.sk-estimator-doc-link.fitted,\n",
       "a:visited.sk-estimator-doc-link.fitted {\n",
       "  /* fitted */\n",
       "  border: var(--sklearn-color-fitted-level-1) 1pt solid;\n",
       "  color: var(--sklearn-color-fitted-level-1);\n",
       "}\n",
       "\n",
       "/* On hover */\n",
       "div.sk-estimator:hover .sk-estimator-doc-link:hover,\n",
       ".sk-estimator-doc-link:hover,\n",
       "div.sk-label-container:hover .sk-estimator-doc-link:hover,\n",
       ".sk-estimator-doc-link:hover {\n",
       "  /* unfitted */\n",
       "  background-color: var(--sklearn-color-unfitted-level-3);\n",
       "  color: var(--sklearn-color-background);\n",
       "  text-decoration: none;\n",
       "}\n",
       "\n",
       "div.sk-estimator.fitted:hover .sk-estimator-doc-link.fitted:hover,\n",
       ".sk-estimator-doc-link.fitted:hover,\n",
       "div.sk-label-container:hover .sk-estimator-doc-link.fitted:hover,\n",
       ".sk-estimator-doc-link.fitted:hover {\n",
       "  /* fitted */\n",
       "  background-color: var(--sklearn-color-fitted-level-3);\n",
       "  color: var(--sklearn-color-background);\n",
       "  text-decoration: none;\n",
       "}\n",
       "\n",
       "/* Span, style for the box shown on hovering the info icon */\n",
       ".sk-estimator-doc-link span {\n",
       "  display: none;\n",
       "  z-index: 9999;\n",
       "  position: relative;\n",
       "  font-weight: normal;\n",
       "  right: .2ex;\n",
       "  padding: .5ex;\n",
       "  margin: .5ex;\n",
       "  width: min-content;\n",
       "  min-width: 20ex;\n",
       "  max-width: 50ex;\n",
       "  color: var(--sklearn-color-text);\n",
       "  box-shadow: 2pt 2pt 4pt #999;\n",
       "  /* unfitted */\n",
       "  background: var(--sklearn-color-unfitted-level-0);\n",
       "  border: .5pt solid var(--sklearn-color-unfitted-level-3);\n",
       "}\n",
       "\n",
       ".sk-estimator-doc-link.fitted span {\n",
       "  /* fitted */\n",
       "  background: var(--sklearn-color-fitted-level-0);\n",
       "  border: var(--sklearn-color-fitted-level-3);\n",
       "}\n",
       "\n",
       ".sk-estimator-doc-link:hover span {\n",
       "  display: block;\n",
       "}\n",
       "\n",
       "/* \"?\"-specific style due to the `<a>` HTML tag */\n",
       "\n",
       "#sk-container-id-1 a.estimator_doc_link {\n",
       "  float: right;\n",
       "  font-size: 1rem;\n",
       "  line-height: 1em;\n",
       "  font-family: monospace;\n",
       "  background-color: var(--sklearn-color-background);\n",
       "  border-radius: 1rem;\n",
       "  height: 1rem;\n",
       "  width: 1rem;\n",
       "  text-decoration: none;\n",
       "  /* unfitted */\n",
       "  color: var(--sklearn-color-unfitted-level-1);\n",
       "  border: var(--sklearn-color-unfitted-level-1) 1pt solid;\n",
       "}\n",
       "\n",
       "#sk-container-id-1 a.estimator_doc_link.fitted {\n",
       "  /* fitted */\n",
       "  border: var(--sklearn-color-fitted-level-1) 1pt solid;\n",
       "  color: var(--sklearn-color-fitted-level-1);\n",
       "}\n",
       "\n",
       "/* On hover */\n",
       "#sk-container-id-1 a.estimator_doc_link:hover {\n",
       "  /* unfitted */\n",
       "  background-color: var(--sklearn-color-unfitted-level-3);\n",
       "  color: var(--sklearn-color-background);\n",
       "  text-decoration: none;\n",
       "}\n",
       "\n",
       "#sk-container-id-1 a.estimator_doc_link.fitted:hover {\n",
       "  /* fitted */\n",
       "  background-color: var(--sklearn-color-fitted-level-3);\n",
       "}\n",
       "</style><div id=\"sk-container-id-1\" class=\"sk-top-container\"><div class=\"sk-text-repr-fallback\"><pre>LogisticRegression()</pre><b>In a Jupyter environment, please rerun this cell to show the HTML representation or trust the notebook. <br />On GitHub, the HTML representation is unable to render, please try loading this page with nbviewer.org.</b></div><div class=\"sk-container\" hidden><div class=\"sk-item\"><div class=\"sk-estimator fitted sk-toggleable\"><input class=\"sk-toggleable__control sk-hidden--visually\" id=\"sk-estimator-id-1\" type=\"checkbox\" checked><label for=\"sk-estimator-id-1\" class=\"sk-toggleable__label fitted sk-toggleable__label-arrow fitted\">&nbsp;&nbsp;LogisticRegression<a class=\"sk-estimator-doc-link fitted\" rel=\"noreferrer\" target=\"_blank\" href=\"https://scikit-learn.org/1.5/modules/generated/sklearn.linear_model.LogisticRegression.html\">?<span>Documentation for LogisticRegression</span></a><span class=\"sk-estimator-doc-link fitted\">i<span>Fitted</span></span></label><div class=\"sk-toggleable__content fitted\"><pre>LogisticRegression()</pre></div> </div></div></div></div>"
      ],
      "text/plain": [
       "LogisticRegression()"
      ]
     },
     "execution_count": 10,
     "metadata": {},
     "output_type": "execute_result"
    }
   ],
   "source": [
    "from sklearn.linear_model import LogisticRegression\n",
    "from sklearn.model_selection import train_test_split\n",
    "from sklearn.metrics import accuracy_score\n",
    "from sklearn.feature_extraction.text import TfidfVectorizer\n",
    "\n",
    "x = df['Review']\n",
    "y = df['Liked']\n",
    "vectorizer = TfidfVectorizer()\n",
    "x_transformed  = vectorizer.fit_transform(df['Review'])\n",
    "x_train, x_test, y_train, y_test = train_test_split(x_transformed, y, test_size=0.2, random_state=42)\n",
    "import pandas as pd\n",
    "from sklearn.model_selection import train_test_split\n",
    "model = LogisticRegression()\n",
    "model.fit(x_train, y_train)"
   ]
  },
  {
   "cell_type": "code",
   "execution_count": 11,
   "metadata": {
    "colab": {
     "base_uri": "https://localhost:8080/"
    },
    "executionInfo": {
     "elapsed": 17,
     "status": "ok",
     "timestamp": 1734083196944,
     "user": {
      "displayName": "Ubong Udoette",
      "userId": "17916095541120893166"
     },
     "user_tz": 0
    },
    "id": "OfHVyXqAdhSk",
    "outputId": "c8420719-e032-42ff-c294-66fbd195709c"
   },
   "outputs": [
    {
     "name": "stdout",
     "output_type": "stream",
     "text": [
      " Accuracy : 0.81\n",
      " Precision : 0.875\n",
      " Recall : 0.7403846153846154\n",
      " F1 Score : 0.8020833333333334\n"
     ]
    }
   ],
   "source": [
    "y_pred = model.predict(x_test)\n",
    "y_prob = model.predict_proba(x_test)\n",
    "# Calculate accuracy\n",
    "accuracy = accuracy_score (y_test , y_pred )\n",
    "precision = precision_score(y_test, y_pred)\n",
    "recall = recall_score(y_test, y_pred)\n",
    "f1 = f1_score(y_test, y_pred)\n",
    "print (f\" Accuracy : { accuracy }\")\n",
    "print (f\" Precision : { precision }\")\n",
    "print (f\" Recall : { recall }\")\n",
    "print (f\" F1 Score : { f1 }\")\n",
    "\n",
    "# Confusion matrix\n",
    "conf_matrix2 = confusion_matrix(y_test, y_pred)\n",
    "# print(f'confusion matrix: \\n{conf_matrix2}')"
   ]
  },
  {
   "cell_type": "code",
   "execution_count": 12,
   "metadata": {
    "colab": {
     "base_uri": "https://localhost:8080/",
     "height": 458
    },
    "executionInfo": {
     "elapsed": 344,
     "status": "ok",
     "timestamp": 1734083197275,
     "user": {
      "displayName": "Ubong Udoette",
      "userId": "17916095541120893166"
     },
     "user_tz": 0
    },
    "id": "Jm9di1ZyLbF_",
    "outputId": "00b55965-7d37-47cb-89af-d9a3b268b471"
   },
   "outputs": [
    {
     "data": {
      "image/png": "[encoded data removed]",
      "text/plain": [
       "<Figure size 640x480 with 2 Axes>"
      ]
     },
     "metadata": {},
     "output_type": "display_data"
    }
   ],
   "source": [
    "disp = ConfusionMatrixDisplay(confusion_matrix=conf_matrix2, display_labels='')\n",
    "disp.plot(cmap=plt.cm.Blues)\n",
    "plt.title('Confusion Matrix for Logistic Regression')\n",
    "plt.show()"
   ]
  },
  {
   "cell_type": "markdown",
   "metadata": {
    "id": "Tg7Q_oOjWLA5"
   },
   "source": [
    "Neutral Sentiment Analysis"
   ]
  },
  {
   "cell_type": "code",
   "execution_count": 32,
   "metadata": {
    "executionInfo": {
     "elapsed": 177,
     "status": "ok",
     "timestamp": 1734083508394,
     "user": {
      "displayName": "Ubong Udoette",
      "userId": "17916095541120893166"
     },
     "user_tz": 0
    },
    "id": "SSnGQ9oCT65U"
   },
   "outputs": [],
   "source": [
    "def predict_review_advanced(review):\n",
    "    review_transformed = vectorizer.transform([review])\n",
    "    prediction = model.predict(review_transformed)\n",
    "    prediction_prob = model.predict_proba(review_transformed)\n",
    "\n",
    "    conf = max(prediction_prob[0])\n",
    "    if conf > 0.69:\n",
    "        if prediction[0] == 1:\n",
    "            print(\"Positive Review\", conf)\n",
    "        else:\n",
    "            print(\"Negative Review\", conf)\n",
    "    else:\n",
    "        print(\"Neutral Review\", conf)"
   ]
  },
  {
   "cell_type": "code",
   "execution_count": 34,
   "metadata": {
    "colab": {
     "base_uri": "https://localhost:8080/"
    },
    "executionInfo": {
     "elapsed": 198,
     "status": "ok",
     "timestamp": 1734083540983,
     "user": {
      "displayName": "Ubong Udoette",
      "userId": "17916095541120893166"
     },
     "user_tz": 0
    },
    "id": "kBGmaznnaAu_",
    "outputId": "55f25ba8-165d-465c-8fae-090c5438b73e"
   },
   "outputs": [
    {
     "name": "stdout",
     "output_type": "stream",
     "text": [
      "Neutral Review 0.5410431057831979\n"
     ]
    }
   ],
   "source": [
    "review = 'poor experience'\n",
    "predict_review_advanced(review)"
   ]
  },
  {
   "cell_type": "markdown",
   "metadata": {
    "id": "ZQ0beSWHWXCO"
   },
   "source": [
    "Aspect Based Sentiment Analysis"
   ]
  },
  {
   "cell_type": "code",
   "execution_count": 15,
   "metadata": {
    "colab": {
     "base_uri": "https://localhost:8080/"
    },
    "executionInfo": {
     "elapsed": 760,
     "status": "ok",
     "timestamp": 1734083198016,
     "user": {
      "displayName": "Ubong Udoette",
      "userId": "17916095541120893166"
     },
     "user_tz": 0
    },
    "id": "coLTJ8hVbg5U",
    "outputId": "a3140c7a-72cd-4813-a79d-d78a3f7a54d9"
   },
   "outputs": [
    {
     "name": "stdout",
     "output_type": "stream",
     "text": [
      "Parsed Training DataFrame:\n",
      "                                                text  \\\n",
      "0              But the staff was so horrible to us .   \n",
      "1  To be completely fair , the only redeeming fac...   \n",
      "2  The food is uniformly exceptional , with a ver...   \n",
      "3  The food is uniformly exceptional , with a ver...   \n",
      "4  Our agreed favorite is the orrechiete with sau...   \n",
      "\n",
      "                                aspect        opinion  polarity  \n",
      "0                                staff       horrible  negative  \n",
      "1                                 food  above average  positive  \n",
      "2                                 food    exceptional  positive  \n",
      "3                              kitchen        capable  positive  \n",
      "4  orrechiete with sausage and chicken       favorite  positive  \n",
      "Parsed Test DataFrame:\n",
      "                                                text          aspect  \\\n",
      "0                   The bread is top notch as well .           bread   \n",
      "1  I have to say they have one of the fastest del...  delivery times   \n",
      "2        Food is always fresh and hot ready to eat !            Food   \n",
      "3        Food is always fresh and hot ready to eat !            Food   \n",
      "4     Did I mention that the coffee is OUTSTANDING ?          coffee   \n",
      "\n",
      "       opinion  polarity  \n",
      "0    top notch  positive  \n",
      "1      fastest  positive  \n",
      "2        fresh  positive  \n",
      "3          hot  positive  \n",
      "4  OUTSTANDING  positive  \n",
      "Classification Report:\n",
      "              precision    recall  f1-score   support\n",
      "\n",
      "         0.0       0.83      0.35      0.50       155\n",
      "         1.0       0.88      0.99      0.93       773\n",
      "\n",
      "    accuracy                           0.88       928\n",
      "   macro avg       0.86      0.67      0.71       928\n",
      "weighted avg       0.88      0.88      0.86       928\n",
      "\n"
     ]
    }
   ],
   "source": [
    "#Advanced predicition with Logisitic Regression\n",
    "import json\n",
    "\n",
    "# Step 1: Load the JSONL file into a pandas DataFrame\n",
    "def jsonl_to_dataframe(jsonl_file):\n",
    "    data = []\n",
    "    with open(jsonl_file, 'r') as f:\n",
    "        for line in f:\n",
    "            entry = json.loads(line)\n",
    "            text = entry['text']\n",
    "            for label in entry['labels']:\n",
    "                aspect = label['aspect']\n",
    "                opinion = label['opinion']\n",
    "                polarity = label['polarity']\n",
    "                data.append({\n",
    "                    'text': text,\n",
    "                    'aspect': aspect,\n",
    "                    'opinion': opinion,\n",
    "                    'polarity': polarity\n",
    "                })\n",
    "    return pd.DataFrame(data)\n",
    "\n",
    "# Parse the training JSONL file into a DataFrame\n",
    "# Replace 'train_dataset.jsonl' with the path to your training JSONL file\n",
    "train_dataframe = jsonl_to_dataframe('train.jsonl')\n",
    "print(\"Parsed Training DataFrame:\")\n",
    "print(train_dataframe.head())\n",
    "\n",
    "# Drop rows with NaN values\n",
    "train_dataframe.dropna(inplace=True)\n",
    "\n",
    "# Map polarity to binary labels ('positive' -> 1, 'negative' -> 0)\n",
    "train_dataframe['label'] = train_dataframe['polarity'].map({'positive': 1, 'negative': 0})\n",
    "\n",
    "# Ensure no NaN values remain in the label column\n",
    "train_dataframe = train_dataframe[train_dataframe['label'].notna()]\n",
    "\n",
    "# Combine aspect and opinion for input features\n",
    "train_dataframe['features'] = train_dataframe['aspect'] + ' ' + train_dataframe['opinion']\n",
    "\n",
    "# Vectorize the text using TF-IDF for training data\n",
    "vectorizer = TfidfVectorizer()\n",
    "X_train = vectorizer.fit_transform(train_dataframe['features'])\n",
    "y_train = train_dataframe['label']\n",
    "\n",
    "# Train the Logistic Regression model\n",
    "model = LogisticRegression()\n",
    "model.fit(X_train, y_train)\n",
    "\n",
    "# Replace 'test_dataset.jsonl' with the path to your test JSONL file\n",
    "test_dataframe = jsonl_to_dataframe('test.jsonl')\n",
    "print(\"Parsed Test DataFrame:\")\n",
    "print(test_dataframe.head())\n",
    "\n",
    "# Drop rows with NaN values\n",
    "test_dataframe.dropna(inplace=True)\n",
    "\n",
    "# Map polarity to binary labels ('positive' -> 1, 'negative' -> 0)\n",
    "test_dataframe['label'] = test_dataframe['polarity'].map({'positive': 1, 'negative': 0})\n",
    "\n",
    "# Ensure no NaN values remain in the label column\n",
    "test_dataframe = test_dataframe[test_dataframe['label'].notna()]\n",
    "\n",
    "# Combine aspect and opinion for input features\n",
    "test_dataframe['features'] = test_dataframe['aspect'] + ' ' + test_dataframe['opinion']\n",
    "\n",
    "#Vectorize the text using the same TF-IDF vectorizer for test data\n",
    "X_test = vectorizer.transform(test_dataframe['features'])\n",
    "y_test = test_dataframe['label']\n",
    "\n",
    "#Evaluate the model on the test data\n",
    "y_pred = model.predict(X_test)\n",
    "print(\"Classification Report:\")\n",
    "print(classification_report(y_test, y_pred))"
   ]
  }
 ],
 "metadata": {
  "accelerator": "GPU",
  "colab": {
   "authorship_tag": "ABX9TyOmbNhITjHy33XQ4+aJpu9h",
   "gpuType": "T4",
   "mount_file_id": "1__WL-BlXcmbAKp4pXyfovcYcLQ0TuXn0",
   "provenance": [
    {
     "file_id": "1GXrII4aGwqsT-8SrUBOng2jtdfime1K_",
     "timestamp": 1733013489221
    },
    {
     "file_id": "11HD75HEA9p6P_z4T87dSvDRxrrTsAa5a",
     "timestamp": 1733013258346
    }
   ]
  },
  "kernelspec": {
   "display_name": "Python 3",
   "name": "python3"
  },
  "language_info": {
   "name": "python"
  }
 },
 "nbformat": 4,
 "nbformat_minor": 0
}
